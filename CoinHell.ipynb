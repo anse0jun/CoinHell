{
  "nbformat": 4,
  "nbformat_minor": 0,
  "metadata": {
    "colab": {
      "provenance": [],
      "authorship_tag": "ABX9TyNL7mhOjenCwsBeB6DkZMcC",
      "include_colab_link": true
    },
    "kernelspec": {
      "name": "python3",
      "display_name": "Python 3"
    },
    "language_info": {
      "name": "python"
    }
  },
  "cells": [
    {
      "cell_type": "markdown",
      "metadata": {
        "id": "view-in-github",
        "colab_type": "text"
      },
      "source": [
        "<a href=\"https://colab.research.google.com/github/anse0jun/CoinHell/blob/main/CoinHell.ipynb\" target=\"_parent\"><img src=\"https://colab.research.google.com/assets/colab-badge.svg\" alt=\"Open In Colab\"/></a>"
      ]
    },
    {
      "cell_type": "code",
      "source": [
        "import random\n",
        "import matplotlib.pyplot as plt\n",
        "\n",
        "myValues = 500 #시작 시 가지고 있는 돈의 수\n",
        "yeonuCoinValue = 1 #코인의 가격\n",
        "hyungvinCoinValue = 10\n",
        "jungbinCoinValue = 100\n",
        "\n",
        "yCoinList = []\n",
        "hCoinList = []\n",
        "jCoinList = []\n",
        "\n",
        "yCoinCount = 0 #소지한 각 코인의 수\n",
        "hCoinCount = 0\n",
        "jCoinCount = 0\n",
        "\n",
        "yCoinSell = 0\n",
        "hCoinSell = 0\n",
        "jCoinSell = 0\n",
        "\n",
        "check = 0\n",
        "\n",
        "\n",
        "def comm_Sel( CoinCount, CoinSell, CoinValue, values):\n",
        "  if CoinCount - CoinSell <= 0:\n",
        "    print(\"잘못된 값을 입력했습니다.\")\n",
        "    tCheck = 1\n",
        "    return tCheck, CoinCount, values\n",
        "\n",
        "  else:\n",
        "    tMyValues = myValues + (CoinValue * CoinSell)\n",
        "    tCoinCount = CoinCount - CoinSell\n",
        "    tCheck = 0\n",
        "    \n",
        "    return tCheck, tCoinCount, tMyValues\n",
        "\n",
        "while True:\n",
        "  \n",
        "  reTurn = ((myValues / 500) - 1) * 100 #수익률 계산\n",
        "\n",
        "  #print(\"******check값 : \", check, \"**********\")\n",
        "\n",
        "  if check == 0:\n",
        "    yeonuCoinValue = random.randint(150, 350) #각 코인의 가치 랜덤 지정\n",
        "    hyungvinCoinValue = random.randint(100, 550)\n",
        "    jungbinCoinValue = random.randint(1, 700)\n",
        "\n",
        "    yCoinList.append(yeonuCoinValue)\n",
        "    hCoinList.append(hyungvinCoinValue)\n",
        "    jCoinList.append(jungbinCoinValue)\n",
        "\n",
        "  yAble = (myValues)//yeonuCoinValue #구매 가능한 코인의 갯수\n",
        "  hAble = (myValues)//hyungvinCoinValue\n",
        "  jAble = (myValues)//jungbinCoinValue\n",
        "  \n",
        "  print(\"---------------------------------------------------------------------------\") #수익률과 내 자산, 각 코인의 가격, 소지한 코인의 수와 선택지\n",
        "  plt.figure(figsize = (10, 6))\n",
        "  plt.plot(yCoinList, color = 'red', marker = 'o')\n",
        "  plt.plot(hCoinList, color = 'green', marker = 'o')\n",
        "  plt.plot(jCoinList, color = 'blue', marker = 'o')\n",
        "  plt.show()\n",
        "  print(\" 목표는 수익률 99900%!!\\n 현재 수익률:\", reTurn)\n",
        "  print(\" 내 자산:\", myValues, \"\\n\", \"연우코인의 가격:\", yeonuCoinValue, \"\\n\", \"형빈코인의 가격:\", hyungvinCoinValue, \"\\n\", \"정빈코인의 가격:\", jungbinCoinValue)\n",
        "  print(\"\\n 소지한 연우코인의 수:\", yCoinCount, \"\\n 소지한 형빈코인의 수:\", hCoinCount, \"\\n 소지한 정빈코인의 수:\", jCoinCount)\n",
        "  buy = input(\"\\n무엇을 하시겠습니까? (연우코인구입 = 1, 형빈코인구입 = 2, 정빈코인구입 = 3, 연우코인판매 = 4, 형빈코인판매 = 5, 정빈코인판매 = 6)\\n\")\n",
        "\n",
        "  while True:\n",
        "    if buy == \"1\": #연우코인 구매\n",
        "      print(\"\\n 연우코인을 몇 개 구입하시겠습니까? (숫자만)\\n\", '현재 구입 가능한 연우코인의 수:', yAble)\n",
        "      yCoinCount = yCoinCount + int(input(' '))\n",
        "      myValues = myValues - (yeonuCoinValue*yCoinCount)\n",
        "      check = 0\n",
        "      break\n",
        "\n",
        "    elif buy == \"2\": #형빈코인 구매\n",
        "      print(\"\\n 형빈코인을 몇 개 구입하시겠습니까? (숫자만)\\n\", '현재 구입 가능한 형빈코인의 수:', hAble)\n",
        "      hCoinCount = hCoinCount + int(input(' '))\n",
        "      myValues = myValues - (hyungvinCoinValue*hCoinCount)\n",
        "      check = 0\n",
        "      break\n",
        "\n",
        "    elif buy == '3': #정빈코인 구매\n",
        "      print(\"\\n 정빈코인을 몇 개 구입하시겠습니까? (숫자만)\", '현재 구입 가능한 정빈코인의 수:', jAble)\n",
        "      jCoinCount = jCoinCount + int(input(' '))\n",
        "      myValues = myValues - (jungbinCoinValue*jCoinCount)\n",
        "      check = 0\n",
        "      break\n",
        "\n",
        "    elif buy == '4': #연우코인 판매\n",
        "      yCoinSell = int(input(\"\\n연우코인을 몇 개 판매하시겠습니까? (숫자만)\\n\"))\n",
        "      check, yCoinCount, myValues = comm_Sel(yCoinCount, yCoinSell, yeonuCoinValue, myValues)\n",
        "      break\n",
        "\n",
        "    elif buy == '5': #형빈코인 판매\n",
        "      hCoinSell = int(input(\"\\n형빈코인을 몇 개 판매하시겠습니까? (숫자만)\\n\"))\n",
        "      check, hCoinCount, myValues = comm_Sel(hCoinCount, hCoinSell, hyungvinCoinValue, myValues)\n",
        "      break\n",
        "\n",
        "    elif buy == '6': #정빈코인 판매\n",
        "      jCoinSell = int(input(\"\\n정빈코인을 몇 개 판매하시겠습니까? (숫자만)\\n\"))\n",
        "      check, jCoinCount, myValues = comm_Sel(jCoinCount, jCoinSell, jungbinCoinValue, myValues)\n",
        "      break\n",
        "\n",
        "    else: #오타\n",
        "      check = 1\n",
        "      print(\"잘못된 값을 입력하였습니다. 다시 입력해 주세요.\")\n",
        "      break\n",
        "\n",
        "  if int(myValues) >= 500000: #승리 조건\n",
        "    print('---------------------------------------------------------------------------')\n",
        "    print('총 자산:', myValues, '원')\n",
        "    print('총 수익률:', reTurn)\n",
        "    print('수익률 99900% 달성!! 게임 승리!!')\n",
        "    break\n",
        "  elif int(myValues) <= -3000: #패배 조건\n",
        "    print('---------------------------------------------------------------------------')\n",
        "    print('생긴 빚:', myValues, '원')\n",
        "    print('빚이 -3000원이 넘었다!! 파산!! 게임오버!!!')\n",
        "    break"
      ],
      "metadata": {
        "colab": {
          "base_uri": "https://localhost:8080/",
          "height": 758
        },
        "id": "GJdJqr4Auzq0",
        "outputId": "8afc7df6-6f88-4358-802e-885cbb1ec5f7"
      },
      "execution_count": 2,
      "outputs": [
        {
          "output_type": "stream",
          "name": "stdout",
          "text": [
            "---------------------------------------------------------------------------\n"
          ]
        },
        {
          "output_type": "display_data",
          "data": {
            "text/plain": [
              "<Figure size 720x432 with 1 Axes>"
            ],
            "image/png": "[encoded data removed]"
          },
          "metadata": {
            "needs_background": "light"
          }
        },
        {
          "output_type": "stream",
          "name": "stdout",
          "text": [
            " 목표는 수익률 99900%!!\n",
            " 현재 수익률: 0.0\n",
            " 내 자산: 500 \n",
            " 연우코인의 가격: 288 \n",
            " 형빈코인의 가격: 284 \n",
            " 정빈코인의 가격: 335\n",
            "\n",
            " 소지한 연우코인의 수: 0 \n",
            " 소지한 형빈코인의 수: 0 \n",
            " 소지한 정빈코인의 수: 0\n",
            "\n",
            "무엇을 하시겠습니까? (연우코인구입 = 1, 형빈코인구입 = 2, 정빈코인구입 = 3, 연우코인판매 = 4, 형빈코인판매 = 5, 정빈코인판매 = 6)\n",
            "1\n",
            "\n",
            " 연우코인을 몇 개 구입하시겠습니까? (숫자만)\n",
            " 현재 구입 가능한 연우코인의 수: 1\n",
            " 100000000000000000\n",
            "---------------------------------------------------------------------------\n",
            "생긴 빚: -28799999999999999500 원\n",
            "빚이 -3000원이 넘었다!! 파산!! 게임오버!!!\n"
          ]
        }
      ]
    }
  ]
}